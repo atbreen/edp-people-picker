{
 "cells": [
  {
   "cell_type": "markdown",
   "metadata": {},
   "source": [
    "# People maker\n",
    "This is to create some number of people."
   ]
  },
  {
   "cell_type": "code",
   "execution_count": 1,
   "metadata": {},
   "outputs": [
    {
     "name": "stdout",
     "output_type": "stream",
     "text": [
      "Making people\n"
     ]
    }
   ],
   "source": [
    "import json\n",
    "import random\n",
    "from faker import Faker\n",
    "faker = Faker('en_US')\n",
    "from salary_tools import adjuster\n",
    "\n",
    "how_many_people = 100\n",
    "output_file = 'people.json'\n",
    "people = []"
   ]
  },
  {
   "cell_type": "markdown",
   "metadata": {},
   "source": [
    "## Make one person"
   ]
  },
  {
   "cell_type": "code",
   "execution_count": 2,
   "metadata": {},
   "outputs": [],
   "source": [
    "def make_person() -> dict:\n",
    "    '''\n",
    "    Creates and returns a duck-typed person (actually a dict) with a\n",
    "    random name, address, marital_status, age, and salary\n",
    "    '''\n",
    "    person = {'name': {}, 'address': {}}\n",
    "    marital_statuses = ('s', 'm', 'd')\n",
    "\n",
    "    person['name']['first'] = faker.first_name()\n",
    "    person['name']['last'] = faker.last_name()\n",
    "    person['age'] = random.randint(18, 60)\n",
    "    person['marital_status'] = marital_statuses[random.randint(\n",
    "        0, len(marital_statuses)-1)]\n",
    "    person['salary'] = random.randrange(27000, 82000)\n",
    "    person['address']['street'] = faker.street_address()\n",
    "    person['address']['city'] = faker.city()\n",
    "    person['address']['state'] = faker.state_abbr()\n",
    "    person['address']['postal_code'] = faker.postcode()\n",
    "    return person"
   ]
  },
  {
   "cell_type": "markdown",
   "metadata": {},
   "source": [
    "## Create a bunch of persons"
   ]
  },
  {
   "cell_type": "code",
   "execution_count": 3,
   "metadata": {},
   "outputs": [],
   "source": [
    "for c in range(how_many_people):\n",
    "    person = make_person()\n",
    "    people.append(person)"
   ]
  },
  {
   "cell_type": "markdown",
   "metadata": {},
   "source": [
    "## Adjust their salaries with the 'secret' adjuster\n",
    "This is supposed to be secret. To illustrate data modeling and predictions, we're going to make the salary dependent on some things."
   ]
  },
  {
   "cell_type": "code",
   "execution_count": 4,
   "metadata": {},
   "outputs": [],
   "source": [
    "people = list(map(lambda p: adjuster.adjust(p) , people))"
   ]
  },
  {
   "cell_type": "markdown",
   "metadata": {},
   "source": [
    "## Save them to a file\n"
   ]
  },
  {
   "cell_type": "code",
   "execution_count": 5,
   "metadata": {},
   "outputs": [],
   "source": [
    "with open(output_file, 'w') as fout:\n",
    "    fout.write(json.dumps(people))"
   ]
  },
  {
   "cell_type": "markdown",
   "metadata": {},
   "source": []
  }
 ],
 "metadata": {
  "kernelspec": {
   "display_name": "base",
   "language": "python",
   "name": "python3"
  },
  "language_info": {
   "codemirror_mode": {
    "name": "ipython",
    "version": 3
   },
   "file_extension": ".py",
   "mimetype": "text/x-python",
   "name": "python",
   "nbconvert_exporter": "python",
   "pygments_lexer": "ipython3",
   "version": "3.11.5"
  }
 },
 "nbformat": 4,
 "nbformat_minor": 2
}
